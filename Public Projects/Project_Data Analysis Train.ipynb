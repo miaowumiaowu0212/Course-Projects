{
 "cells": [
  {
   "cell_type": "markdown",
   "id": "efd24ea8-9c28-42b0-a609-3111b03d91d7",
   "metadata": {},
   "source": [
    "# 这是一个一级标题"
   ]
  },
  {
   "cell_type": "markdown",
   "id": "69170118-feb4-4705-a9fe-e12c21caddfd",
   "metadata": {},
   "source": [
    "## 这是一个二级标题"
   ]
  },
  {
   "cell_type": "markdown",
   "id": "dd7edbcc-33a0-48af-8e7e-e9ea3e9b654c",
   "metadata": {},
   "source": [
    "**加粗这些文字**"
   ]
  },
  {
   "cell_type": "markdown",
   "id": "ec51829e-959e-4efa-b76c-1b850520fbe6",
   "metadata": {},
   "source": [
    "*斜体这些问题*"
   ]
  },
  {
   "cell_type": "code",
   "execution_count": null,
   "id": "d170c861-6028-4ec6-a986-4cd1f628c59d",
   "metadata": {},
   "outputs": [],
   "source": [
    "[这是一个链接]"
   ]
  }
 ],
 "metadata": {
  "kernelspec": {
   "display_name": "Python 3 (ipykernel)",
   "language": "python",
   "name": "python3"
  },
  "language_info": {
   "codemirror_mode": {
    "name": "ipython",
    "version": 3
   },
   "file_extension": ".py",
   "mimetype": "text/x-python",
   "name": "python",
   "nbconvert_exporter": "python",
   "pygments_lexer": "ipython3",
   "version": "3.12.0"
  }
 },
 "nbformat": 4,
 "nbformat_minor": 5
}
